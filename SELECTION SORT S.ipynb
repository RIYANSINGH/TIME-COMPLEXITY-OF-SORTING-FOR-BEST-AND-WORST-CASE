{
 "cells": [
  {
   "cell_type": "code",
   "execution_count": 1,
   "metadata": {},
   "outputs": [],
   "source": [
    "import numpy as np\n"
   ]
  },
  {
   "cell_type": "markdown",
   "metadata": {},
   "source": [
    "# decending selection "
   ]
  },
  {
   "cell_type": "code",
   "execution_count": 8,
   "metadata": {},
   "outputs": [
    {
     "name": "stdout",
     "output_type": "stream",
     "text": [
      "[9999 9998 9997 ...    2    1    0]\n",
      "The array after sorting in Ascending Order by selection sort is:\n",
      "[   0    1    2 ... 9997 9998 9999]\n"
     ]
    }
   ],
   "source": [
    "\n",
    "def selectionSort(array, size):\n",
    "\t\n",
    "\tfor ind in range(size):\n",
    "\t\tmin_index = ind\n",
    "\n",
    "\t\tfor j in range(ind + 1, size):\n",
    "\t\t\tif array[j] < array[min_index]:\n",
    "\t\t\t\tmin_index = j\n",
    "\t\t(array[ind], array[min_index]) = (array[min_index], array[ind])\n",
    "\n",
    "arr = np.arange(10000)\n",
    "\n",
    "array=np.flip(arr)\n",
    "print(array)\n",
    "size = len(array)\n",
    "selectionSort(array, size)\n",
    "print('The array after sorting in Ascending Order by selection sort is:')\n",
    "print(array)\n"
   ]
  },
  {
   "cell_type": "markdown",
   "metadata": {},
   "source": [
    "# accending sort"
   ]
  },
  {
   "cell_type": "code",
   "execution_count": 6,
   "metadata": {},
   "outputs": [
    {
     "name": "stdout",
     "output_type": "stream",
     "text": [
      "[   0    1    2 ... 9997 9998 9999]\n",
      "The array after sorting in Ascending Order by selection sort is:\n",
      "[   0    1    2 ... 9997 9998 9999]\n"
     ]
    }
   ],
   "source": [
    "\n",
    "def selectionSort(array, size):\n",
    "\t\n",
    "\tfor ind in range(size):\n",
    "\t\tmin_index = ind\n",
    "\n",
    "\t\tfor j in range(ind + 1, size):\n",
    "\t\t\tif array[j] < array[min_index]:\n",
    "\t\t\t\tmin_index = j\n",
    "\t\t(array[ind], array[min_index]) = (array[min_index], array[ind])\n",
    "\n",
    "array = np.arange(10000)\n",
    "print(array)\n",
    "#array=np.flip(arr)\n",
    "size = len(array)\n",
    "selectionSort(array, size)\n",
    "print('The array after sorting in Ascending Order by selection sort is:')\n",
    "print(array)\n"
   ]
  },
  {
   "cell_type": "markdown",
   "metadata": {},
   "source": [
    "# randoom"
   ]
  },
  {
   "cell_type": "code",
   "execution_count": 9,
   "metadata": {},
   "outputs": [
    {
     "name": "stdout",
     "output_type": "stream",
     "text": [
      "[6253  104 5579 ... 2507 7054  959]\n",
      "The array after sorting in Ascending Order by selection sort is:\n",
      "[   0    1    2 ... 9997 9998 9999]\n"
     ]
    }
   ],
   "source": [
    "\n",
    "def selectionSort(array, size):\n",
    "\t\n",
    "\tfor ind in range(size):\n",
    "\t\tmin_index = ind\n",
    "\n",
    "\t\tfor j in range(ind + 1, size):\n",
    "\t\t\tif array[j] < array[min_index]:\n",
    "\t\t\t\tmin_index = j\n",
    "\t\t(array[ind], array[min_index]) = (array[min_index], array[ind])\n",
    "\n",
    "array = np.arange(10000)\n",
    "np.random.shuffle(array)\n",
    "print(array)\n",
    "#array=np.flip(arr)\n",
    "size = len(array)\n",
    "selectionSort(array, size)\n",
    "print('The array after sorting in Ascending Order by selection sort is:')\n",
    "print(array)\n"
   ]
  },
  {
   "cell_type": "code",
   "execution_count": null,
   "metadata": {},
   "outputs": [],
   "source": []
  }
 ],
 "metadata": {
  "kernelspec": {
   "display_name": "Python 3.9.12 ('base')",
   "language": "python",
   "name": "python3"
  },
  "language_info": {
   "codemirror_mode": {
    "name": "ipython",
    "version": 3
   },
   "file_extension": ".py",
   "mimetype": "text/x-python",
   "name": "python",
   "nbconvert_exporter": "python",
   "pygments_lexer": "ipython3",
   "version": "3.9.12"
  },
  "orig_nbformat": 4,
  "vscode": {
   "interpreter": {
    "hash": "ad2bdc8ecc057115af97d19610ffacc2b4e99fae6737bb82f5d7fb13d2f2c186"
   }
  }
 },
 "nbformat": 4,
 "nbformat_minor": 2
}
